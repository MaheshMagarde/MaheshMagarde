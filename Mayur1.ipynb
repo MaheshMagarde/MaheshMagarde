{
  "nbformat": 4,
  "nbformat_minor": 0,
  "metadata": {
    "colab": {
      "name": "Mayur1.ipynb",
      "provenance": [],
      "authorship_tag": "ABX9TyOjvwtoQRmRutQiLc2rKywo",
      "include_colab_link": true
    },
    "kernelspec": {
      "name": "python3",
      "display_name": "Python 3"
    },
    "language_info": {
      "name": "python"
    }
  },
  "cells": [
    {
      "cell_type": "markdown",
      "metadata": {
        "id": "view-in-github",
        "colab_type": "text"
      },
      "source": [
        "<a href=\"https://colab.research.google.com/github/MaheshMagarde/MaheshMagarde/blob/main/Mayur1.ipynb\" target=\"_parent\"><img src=\"https://colab.research.google.com/assets/colab-badge.svg\" alt=\"Open In Colab\"/></a>"
      ]
    },
    {
      "cell_type": "markdown",
      "metadata": {
        "id": "XLp-fKQqcFgj"
      },
      "source": [
        "ytkuyku;\n",
        "\n",
        "\n"
      ]
    },
    {
      "cell_type": "code",
      "metadata": {
        "id": "0vb5xcPeziTH"
      },
      "source": [
        ""
      ],
      "execution_count": null,
      "outputs": []
    },
    {
      "cell_type": "markdown",
      "metadata": {
        "id": "cXb1b5Ejz-dA"
      },
      "source": [
        "# My Section"
      ]
    },
    {
      "cell_type": "code",
      "metadata": {
        "id": "b6Xoy3Kv0Mqt"
      },
      "source": [
        "import numpy as np\n",
        "np.random.rand?\n"
      ],
      "execution_count": 4,
      "outputs": []
    },
    {
      "cell_type": "code",
      "metadata": {
        "id": "vG9ZCmG402XL"
      },
      "source": [
        ""
      ],
      "execution_count": null,
      "outputs": []
    }
  ]
}